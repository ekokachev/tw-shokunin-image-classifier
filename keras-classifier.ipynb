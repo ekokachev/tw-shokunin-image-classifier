{
 "cells": [
  {
   "cell_type": "code",
   "execution_count": 9,
   "metadata": {},
   "outputs": [
    {
     "name": "stdout",
     "output_type": "stream",
     "text": [
      "Found 100000 images belonging to 10 classes.\n",
      "Found 20000 images belonging to 10 classes.\n",
      "Epoch 1/10\n",
      "62/62 [==============================] - 4s 66ms/step - loss: -38.3131 - acc: 0.1058 - val_loss: -45.9292 - val_acc: 0.0875\n",
      "Epoch 2/10\n",
      "62/62 [==============================] - 4s 61ms/step - loss: -52.2208 - acc: 0.0827 - val_loss: -54.7355 - val_acc: 0.0875\n",
      "Epoch 3/10\n",
      "62/62 [==============================] - 4s 62ms/step - loss: -54.4370 - acc: 0.0958 - val_loss: -54.7355 - val_acc: 0.0875\n",
      "Epoch 4/10\n",
      "62/62 [==============================] - 4s 62ms/step - loss: -55.8073 - acc: 0.1028 - val_loss: -54.7355 - val_acc: 0.0875\n",
      "Epoch 5/10\n",
      "62/62 [==============================] - 4s 61ms/step - loss: -57.3967 - acc: 0.0867 - val_loss: -54.7355 - val_acc: 0.0875\n",
      "Epoch 6/10\n",
      "62/62 [==============================] - 4s 61ms/step - loss: -54.6220 - acc: 0.0907 - val_loss: -54.7355 - val_acc: 0.0875\n",
      "Epoch 7/10\n",
      "62/62 [==============================] - 4s 66ms/step - loss: -53.8633 - acc: 0.1109 - val_loss: -54.7355 - val_acc: 0.0875\n",
      "Epoch 8/10\n",
      "62/62 [==============================] - 4s 61ms/step - loss: -54.4480 - acc: 0.1089 - val_loss: -54.7355 - val_acc: 0.0875\n",
      "Epoch 9/10\n",
      "62/62 [==============================] - 4s 61ms/step - loss: -55.6649 - acc: 0.0998 - val_loss: -54.7355 - val_acc: 0.0875\n",
      "Epoch 10/10\n",
      "62/62 [==============================] - 4s 61ms/step - loss: -53.5923 - acc: 0.0968 - val_loss: -54.7355 - val_acc: 0.0875\n"
     ]
    }
   ],
   "source": [
    "from keras.preprocessing.image import ImageDataGenerator \n",
    "from keras.models import Sequential \n",
    "from keras.layers import Conv2D, MaxPooling2D \n",
    "from keras.layers import Activation, Dropout, Flatten, Dense \n",
    "from keras import backend as K \n",
    "  \n",
    "  \n",
    "img_width, img_height = 64, 32\n",
    "  \n",
    "train_data_dir = 'synimg/train'\n",
    "validation_data_dir = 'synimg/test'\n",
    "nb_train_samples = 1000 \n",
    "nb_validation_samples = 250\n",
    "epochs = 10\n",
    "batch_size = 16\n",
    "  \n",
    "if K.image_data_format() == 'channels_first': \n",
    "    input_shape = (3, img_width, img_height) \n",
    "else: \n",
    "    input_shape = (img_width, img_height, 3) \n",
    "  \n",
    "model = Sequential() \n",
    "model.add(Conv2D(32, (5, 5), input_shape = input_shape)) \n",
    "model.add(Activation('tanh')) \n",
    "model.add(MaxPooling2D(pool_size =(2, 2))) \n",
    "  \n",
    "model.add(Conv2D(32, (5, 5))) \n",
    "model.add(Activation('tanh')) \n",
    "model.add(MaxPooling2D(pool_size =(2, 2))) \n",
    "  \n",
    "model.add(Conv2D(64, (2, 2))) \n",
    "model.add(Activation('tanh')) \n",
    "model.add(MaxPooling2D(pool_size =(2, 2))) \n",
    "  \n",
    "model.add(Flatten()) \n",
    "model.add(Dense(64)) \n",
    "model.add(Activation('tanh')) \n",
    "model.add(Dropout(0.5)) \n",
    "model.add(Dense(1)) \n",
    "model.add(Activation('sigmoid')) \n",
    "  \n",
    "model.compile(loss ='binary_crossentropy', \n",
    "                     optimizer ='rmsprop', \n",
    "                   metrics =['accuracy']) \n",
    "  \n",
    "train_datagen = ImageDataGenerator( \n",
    "                rescale = 1. / 255, \n",
    "                 shear_range = 0.2, \n",
    "                  zoom_range = 0.2, \n",
    "            horizontal_flip = True) \n",
    "  \n",
    "test_datagen = ImageDataGenerator(rescale = 1. / 255) \n",
    "  \n",
    "train_generator = train_datagen.flow_from_directory(train_data_dir, \n",
    "                              target_size =(img_width, img_height), \n",
    "                     batch_size = batch_size, class_mode ='binary') \n",
    "  \n",
    "validation_generator = test_datagen.flow_from_directory( \n",
    "                                    validation_data_dir, \n",
    "                   target_size =(img_width, img_height), \n",
    "          batch_size = batch_size, class_mode ='binary') \n",
    "  \n",
    "model.fit_generator(train_generator, \n",
    "    steps_per_epoch = nb_train_samples // batch_size, \n",
    "    epochs = epochs, validation_data = validation_generator, \n",
    "    validation_steps = nb_validation_samples // batch_size) \n",
    "  \n",
    "model.save_weights('model_saved.h5') "
   ]
  },
  {
   "cell_type": "code",
   "execution_count": 6,
   "metadata": {
    "scrolled": true
   },
   "outputs": [
    {
     "ename": "TypeError",
     "evalue": "evaluate() missing 2 required positional arguments: 'x' and 'y'",
     "output_type": "error",
     "traceback": [
      "\u001b[0;31m---------------------------------------------------------------------------\u001b[0m",
      "\u001b[0;31mTypeError\u001b[0m                                 Traceback (most recent call last)",
      "\u001b[0;32m<ipython-input-6-34717fd9598c>\u001b[0m in \u001b[0;36m<module>\u001b[0;34m()\u001b[0m\n\u001b[0;32m----> 1\u001b[0;31m \u001b[0mmodel\u001b[0m\u001b[0;34m.\u001b[0m\u001b[0mevaluate\u001b[0m\u001b[0;34m(\u001b[0m\u001b[0;34m)\u001b[0m\u001b[0;34m\u001b[0m\u001b[0m\n\u001b[0m",
      "\u001b[0;31mTypeError\u001b[0m: evaluate() missing 2 required positional arguments: 'x' and 'y'"
     ]
    }
   ],
   "source": []
  },
  {
   "cell_type": "code",
   "execution_count": null,
   "metadata": {},
   "outputs": [],
   "source": []
  }
 ],
 "metadata": {
  "kernelspec": {
   "display_name": "Environment (conda_tensorflow_p36)",
   "language": "python",
   "name": "conda_tensorflow_p36"
  },
  "language_info": {
   "codemirror_mode": {
    "name": "ipython",
    "version": 3
   },
   "file_extension": ".py",
   "mimetype": "text/x-python",
   "name": "python",
   "nbconvert_exporter": "python",
   "pygments_lexer": "ipython3",
   "version": "3.6.3"
  }
 },
 "nbformat": 4,
 "nbformat_minor": 2
}
